{
 "cells": [
  {
   "cell_type": "code",
   "execution_count": 1,
   "id": "25a76fad",
   "metadata": {},
   "outputs": [],
   "source": [
    "def my_fun():\n",
    "    pass"
   ]
  },
  {
   "cell_type": "code",
   "execution_count": 3,
   "id": "ab800dba",
   "metadata": {},
   "outputs": [],
   "source": [
    "import pandas as pd"
   ]
  },
  {
   "cell_type": "code",
   "execution_count": 4,
   "id": "eb3e7ae0",
   "metadata": {},
   "outputs": [
    {
     "data": {
      "text/html": [
       "<div>\n",
       "<style scoped>\n",
       "    .dataframe tbody tr th:only-of-type {\n",
       "        vertical-align: middle;\n",
       "    }\n",
       "\n",
       "    .dataframe tbody tr th {\n",
       "        vertical-align: top;\n",
       "    }\n",
       "\n",
       "    .dataframe thead th {\n",
       "        text-align: right;\n",
       "    }\n",
       "</style>\n",
       "<table border=\"1\" class=\"dataframe\">\n",
       "  <thead>\n",
       "    <tr style=\"text-align: right;\">\n",
       "      <th></th>\n",
       "      <th>a</th>\n",
       "      <th>b</th>\n",
       "    </tr>\n",
       "  </thead>\n",
       "  <tbody>\n",
       "    <tr>\n",
       "      <th>0</th>\n",
       "      <td>10</td>\n",
       "      <td>20</td>\n",
       "    </tr>\n",
       "    <tr>\n",
       "      <th>1</th>\n",
       "      <td>20</td>\n",
       "      <td>30</td>\n",
       "    </tr>\n",
       "    <tr>\n",
       "      <th>2</th>\n",
       "      <td>30</td>\n",
       "      <td>40</td>\n",
       "    </tr>\n",
       "  </tbody>\n",
       "</table>\n",
       "</div>"
      ],
      "text/plain": [
       "    a   b\n",
       "0  10  20\n",
       "1  20  30\n",
       "2  30  40"
      ]
     },
     "execution_count": 4,
     "metadata": {},
     "output_type": "execute_result"
    }
   ],
   "source": [
    "dat = pd.DataFrame({'a':[10,20,30],\n",
    "                   'b':[20,30,40]})\n",
    "dat"
   ]
  },
  {
   "cell_type": "code",
   "execution_count": 5,
   "id": "81e6f867",
   "metadata": {},
   "outputs": [],
   "source": [
    "def my_sqr(x):\n",
    "    return x**2"
   ]
  },
  {
   "cell_type": "code",
   "execution_count": 6,
   "id": "e9a84b43",
   "metadata": {},
   "outputs": [],
   "source": [
    "assert my_sqr(3)==9"
   ]
  },
  {
   "cell_type": "code",
   "execution_count": 7,
   "id": "a8ca01a5",
   "metadata": {},
   "outputs": [],
   "source": [
    "def avg_2(x,y):\n",
    "    \"\"\"\n",
    "    Take the average of two numbers\n",
    "    \"\"\"\n",
    "    return (x+y)/2"
   ]
  },
  {
   "cell_type": "code",
   "execution_count": 9,
   "id": "0ca930cd",
   "metadata": {},
   "outputs": [
    {
     "data": {
      "text/plain": [
       "0    100\n",
       "1    400\n",
       "2    900\n",
       "Name: a, dtype: int64"
      ]
     },
     "execution_count": 9,
     "metadata": {},
     "output_type": "execute_result"
    }
   ],
   "source": [
    "# in pandas mateamtical operations are brodcasted(vectorized)\n",
    "dat[\"a\"]**2"
   ]
  },
  {
   "cell_type": "code",
   "execution_count": 11,
   "id": "0dd3a3a9",
   "metadata": {},
   "outputs": [
    {
     "data": {
      "text/plain": [
       "0    100\n",
       "1    400\n",
       "2    900\n",
       "Name: a, dtype: int64"
      ]
     },
     "execution_count": 11,
     "metadata": {},
     "output_type": "execute_result"
    }
   ],
   "source": [
    "dat[\"a\"].apply(my_sqr)"
   ]
  },
  {
   "cell_type": "code",
   "execution_count": null,
   "id": "1fa6fdbc",
   "metadata": {},
   "outputs": [],
   "source": [
    "# fucntion that take multiple paramethers"
   ]
  },
  {
   "cell_type": "code",
   "execution_count": 14,
   "id": "066f8010",
   "metadata": {},
   "outputs": [],
   "source": [
    "def my_exp(x,e):\n",
    "    return x**e\n"
   ]
  },
  {
   "cell_type": "code",
   "execution_count": 16,
   "id": "fe79fffc",
   "metadata": {},
   "outputs": [],
   "source": [
    "assert my_exp(2,10) == 1024"
   ]
  },
  {
   "cell_type": "code",
   "execution_count": 18,
   "id": "3b4f5395",
   "metadata": {},
   "outputs": [
    {
     "data": {
      "text/plain": [
       "0     1000\n",
       "1     8000\n",
       "2    27000\n",
       "Name: a, dtype: int64"
      ]
     },
     "execution_count": 18,
     "metadata": {},
     "output_type": "execute_result"
    }
   ],
   "source": [
    "# Now it's the problem how to apply that e paramether in the function.\n",
    "# One one of doing this is juct providing an extra element, for us this is the e, into the apply method\n",
    "# but keep in the mind, the first thing which will be used as the first paramether of the fucnction.\n",
    "# for other way around we have to change rewrite out fucntion\n",
    "dat[\"a\"].apply(my_exp,e=3)"
   ]
  },
  {
   "cell_type": "code",
   "execution_count": null,
   "id": "696acb3a",
   "metadata": {},
   "outputs": [],
   "source": []
  },
  {
   "cell_type": "code",
   "execution_count": null,
   "id": "4ec98213",
   "metadata": {},
   "outputs": [],
   "source": []
  }
 ],
 "metadata": {
  "kernelspec": {
   "display_name": "Python 3 (ipykernel)",
   "language": "python",
   "name": "python3"
  },
  "language_info": {
   "codemirror_mode": {
    "name": "ipython",
    "version": 3
   },
   "file_extension": ".py",
   "mimetype": "text/x-python",
   "name": "python",
   "nbconvert_exporter": "python",
   "pygments_lexer": "ipython3",
   "version": "3.9.7"
  }
 },
 "nbformat": 4,
 "nbformat_minor": 5
}
